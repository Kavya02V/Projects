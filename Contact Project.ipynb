{
 "cells": [
  {
   "cell_type": "code",
   "execution_count": 1,
   "id": "f70e8d69-07ed-41e1-ad3a-9b19957feafd",
   "metadata": {},
   "outputs": [
    {
     "name": "stdout",
     "output_type": "stream",
     "text": [
      "\n",
      "Contact Management System\n",
      "1. Add Contact\n",
      "2. Edit Contact\n",
      "3. Delete Contact\n",
      "4. Search Contact\n",
      "5. List All Contacts\n",
      "6. Exit\n"
     ]
    },
    {
     "name": "stdin",
     "output_type": "stream",
     "text": [
      "Enter your choice:  \n"
     ]
    },
    {
     "name": "stdout",
     "output_type": "stream",
     "text": [
      "Invalid choice. Please try again.\n",
      "\n",
      "Contact Management System\n",
      "1. Add Contact\n",
      "2. Edit Contact\n",
      "3. Delete Contact\n",
      "4. Search Contact\n",
      "5. List All Contacts\n",
      "6. Exit\n"
     ]
    },
    {
     "name": "stdin",
     "output_type": "stream",
     "text": [
      "Enter your choice:  1\n",
      "Enter name:  Sandarya Paul\n",
      "Enter phone:  7888000\n",
      "Enter email:  sana@g.com\n",
      "Enter address:  banglore\n"
     ]
    },
    {
     "name": "stdout",
     "output_type": "stream",
     "text": [
      "Contact added successfully!\n",
      "\n",
      "Contact Management System\n",
      "1. Add Contact\n",
      "2. Edit Contact\n",
      "3. Delete Contact\n",
      "4. Search Contact\n",
      "5. List All Contacts\n",
      "6. Exit\n"
     ]
    },
    {
     "name": "stdin",
     "output_type": "stream",
     "text": [
      "Enter your choice:  4\n",
      "Enter name or phone to search:  sandarya\n"
     ]
    },
    {
     "name": "stdout",
     "output_type": "stream",
     "text": [
      "Found Contacts:\n",
      "ID: 2, Name: Sandarya Paul, Phone: 7888000, Email: sana@g.com, Address: banglore\n",
      "\n",
      "Contact Management System\n",
      "1. Add Contact\n",
      "2. Edit Contact\n",
      "3. Delete Contact\n",
      "4. Search Contact\n",
      "5. List All Contacts\n",
      "6. Exit\n"
     ]
    },
    {
     "name": "stdin",
     "output_type": "stream",
     "text": [
      "Enter your choice:  2\n",
      "Enter contact ID to edit:  1\n",
      "Enter new name:  kavya\n",
      "Enter new phone:  7788999\n",
      "Enter new email:  kavya@gmai.com\n",
      "Enter new address:  banglore\n"
     ]
    },
    {
     "name": "stdout",
     "output_type": "stream",
     "text": [
      "Contact updated successfully!\n",
      "\n",
      "Contact Management System\n",
      "1. Add Contact\n",
      "2. Edit Contact\n",
      "3. Delete Contact\n",
      "4. Search Contact\n",
      "5. List All Contacts\n",
      "6. Exit\n"
     ]
    },
    {
     "name": "stdin",
     "output_type": "stream",
     "text": [
      "Enter your choice:  5\n"
     ]
    },
    {
     "name": "stdout",
     "output_type": "stream",
     "text": [
      "All Contacts:\n",
      "ID: 1, Name: kavya, Phone: 7788999, Email: kavya@gmai.com, Address: banglore\n",
      "ID: 2, Name: Sandarya Paul, Phone: 7888000, Email: sana@g.com, Address: banglore\n",
      "\n",
      "Contact Management System\n",
      "1. Add Contact\n",
      "2. Edit Contact\n",
      "3. Delete Contact\n",
      "4. Search Contact\n",
      "5. List All Contacts\n",
      "6. Exit\n"
     ]
    },
    {
     "name": "stdin",
     "output_type": "stream",
     "text": [
      "Enter your choice:  3\n",
      "Enter contact ID to delete:  2\n"
     ]
    },
    {
     "name": "stdout",
     "output_type": "stream",
     "text": [
      "Contact deleted successfully!\n",
      "\n",
      "Contact Management System\n",
      "1. Add Contact\n",
      "2. Edit Contact\n",
      "3. Delete Contact\n",
      "4. Search Contact\n",
      "5. List All Contacts\n",
      "6. Exit\n"
     ]
    },
    {
     "name": "stdin",
     "output_type": "stream",
     "text": [
      "Enter your choice:  5\n"
     ]
    },
    {
     "name": "stdout",
     "output_type": "stream",
     "text": [
      "All Contacts:\n",
      "ID: 1, Name: kavya, Phone: 7788999, Email: kavya@gmai.com, Address: banglore\n",
      "\n",
      "Contact Management System\n",
      "1. Add Contact\n",
      "2. Edit Contact\n",
      "3. Delete Contact\n",
      "4. Search Contact\n",
      "5. List All Contacts\n",
      "6. Exit\n"
     ]
    },
    {
     "name": "stdin",
     "output_type": "stream",
     "text": [
      "Enter your choice:  6\n"
     ]
    },
    {
     "name": "stdout",
     "output_type": "stream",
     "text": [
      "Exiting system.\n"
     ]
    }
   ],
   "source": [
    "import mysql.connector\n",
    "\n",
    "# Connect to the MySQL database\n",
    "def connect_db():\n",
    "    return mysql.connector.connect(\n",
    "        host=\"localhost\",\n",
    "        user=\"root\",  # your MySQL username\n",
    "        password=\"12345\",  # your MySQL password\n",
    "        database=\"contacts_db\"\n",
    "    )\n",
    "\n",
    "# Function to add a contact\n",
    "def add_contact(name, phone, email, address):\n",
    "    db = connect_db()\n",
    "    cursor = db.cursor()\n",
    "    query = \"INSERT INTO contacts (name, phone, email, address) VALUES (%s, %s, %s, %s)\"\n",
    "    cursor.execute(query, (name, phone, email, address))\n",
    "    db.commit()\n",
    "    print(\"Contact added successfully!\")\n",
    "    cursor.close()\n",
    "    db.close()\n",
    "\n",
    "# Function to edit a contact by ID\n",
    "def edit_contact(contact_id, name, phone, email, address):\n",
    "    db = connect_db()\n",
    "    cursor = db.cursor()\n",
    "    query = \"UPDATE contacts SET name=%s, phone=%s, email=%s, address=%s WHERE id=%s\"\n",
    "    cursor.execute(query, (name, phone, email, address, contact_id))\n",
    "    db.commit()\n",
    "    print(\"Contact updated successfully!\")\n",
    "    cursor.close()\n",
    "    db.close()\n",
    "\n",
    "# Function to delete a contact by ID\n",
    "def delete_contact(contact_id):\n",
    "    db = connect_db()\n",
    "    cursor = db.cursor()\n",
    "    query = \"DELETE FROM contacts WHERE id=%s\"\n",
    "    cursor.execute(query, (contact_id,))\n",
    "    db.commit()\n",
    "    print(\"Contact deleted successfully!\")\n",
    "    cursor.close()\n",
    "    db.close()\n",
    "\n",
    "# Function to search contacts by name or phone\n",
    "def search_contact(search_term):\n",
    "    db = connect_db()\n",
    "    cursor = db.cursor()\n",
    "    query = \"SELECT * FROM contacts WHERE name LIKE %s OR phone LIKE %s\"\n",
    "    cursor.execute(query, ('%' + search_term + '%', '%' + search_term + '%'))\n",
    "    contacts = cursor.fetchall()\n",
    "    if contacts:\n",
    "        print(\"Found Contacts:\")\n",
    "        for contact in contacts:\n",
    "            print(f\"ID: {contact[0]}, Name: {contact[1]}, Phone: {contact[2]}, Email: {contact[3]}, Address: {contact[4]}\")\n",
    "    else:\n",
    "        print(\"No contacts found.\")\n",
    "    cursor.close()\n",
    "    db.close()\n",
    "\n",
    "# Function to list all contacts\n",
    "def list_contacts():\n",
    "    db = connect_db()\n",
    "    cursor = db.cursor()\n",
    "    query = \"SELECT * FROM contacts\"\n",
    "    cursor.execute(query)\n",
    "    contacts = cursor.fetchall()\n",
    "    if contacts:\n",
    "        print(\"All Contacts:\")\n",
    "        for contact in contacts:\n",
    "            print(f\"ID: {contact[0]}, Name: {contact[1]}, Phone: {contact[2]}, Email: {contact[3]}, Address: {contact[4]}\")\n",
    "    else:\n",
    "        print(\"No contacts available.\")\n",
    "    cursor.close()\n",
    "    db.close()\n",
    "\n",
    "if __name__ == \"__main__\":\n",
    "    while True:\n",
    "        print(\"\\nContact Management System\")\n",
    "        print(\"1. Add Contact\")\n",
    "        print(\"2. Edit Contact\")\n",
    "        print(\"3. Delete Contact\")\n",
    "        print(\"4. Search Contact\")\n",
    "        print(\"5. List All Contacts\")\n",
    "        print(\"6. Exit\")\n",
    "        \n",
    "        choice = input(\"Enter your choice: \")\n",
    "\n",
    "        if choice == '1':\n",
    "            name = input(\"Enter name: \")\n",
    "            phone = input(\"Enter phone: \")\n",
    "            email = input(\"Enter email: \")\n",
    "            address = input(\"Enter address: \")\n",
    "            add_contact(name, phone, email, address)\n",
    "\n",
    "        elif choice == '2':\n",
    "            contact_id = int(input(\"Enter contact ID to edit: \"))\n",
    "            name = input(\"Enter new name: \")\n",
    "            phone = input(\"Enter new phone: \")\n",
    "            email = input(\"Enter new email: \")\n",
    "            address = input(\"Enter new address: \")\n",
    "            edit_contact(contact_id, name, phone, email, address)\n",
    "\n",
    "        elif choice == '3':\n",
    "            contact_id = int(input(\"Enter contact ID to delete: \"))\n",
    "            delete_contact(contact_id)\n",
    "\n",
    "        elif choice == '4':\n",
    "            search_term = input(\"Enter name or phone to search: \")\n",
    "            search_contact(search_term)\n",
    "\n",
    "        elif choice == '5':\n",
    "            list_contacts()\n",
    "\n",
    "        elif choice == '6':\n",
    "            print(\"Exiting system.\")\n",
    "            break\n",
    "\n",
    "        else:\n",
    "            print(\"Invalid choice. Please try again.\")\n"
   ]
  },
  {
   "cell_type": "code",
   "execution_count": null,
   "id": "140dec6d-36cb-4479-b62f-dbfde171441d",
   "metadata": {},
   "outputs": [],
   "source": []
  }
 ],
 "metadata": {
  "kernelspec": {
   "display_name": "Python 3 (ipykernel)",
   "language": "python",
   "name": "python3"
  },
  "language_info": {
   "codemirror_mode": {
    "name": "ipython",
    "version": 3
   },
   "file_extension": ".py",
   "mimetype": "text/x-python",
   "name": "python",
   "nbconvert_exporter": "python",
   "pygments_lexer": "ipython3",
   "version": "3.12.7"
  }
 },
 "nbformat": 4,
 "nbformat_minor": 5
}
