{
 "cells": [
  {
   "cell_type": "markdown",
   "id": "141bd9dc-6642-47fd-a2da-de4912f555aa",
   "metadata": {},
   "source": [
    "## Mini Project: QR Code Generator – Generate QR codes for text or URLs."
   ]
  },
  {
   "cell_type": "markdown",
   "id": "1195fde8-3db0-4ce5-b77e-fc1d7bd3735f",
   "metadata": {},
   "source": [
    "### Problem Statment:\n",
    "We often need to share links or text quickly, without typing or sending long messages. A QR Code is a smart way to do this! This project will create a simple Python program that takes input (like a website link or message) and turns it into a QR code image. The image can be saved or shown, so others can scan it using their phone camera."
   ]
  },
  {
   "cell_type": "markdown",
   "id": "20211c08-03c8-4548-993a-2986107705e7",
   "metadata": {},
   "source": [
    "### Description:\n",
    "This is a Python program that creates QR codes. You can type in any text or website link, and the program will turn it into a black-and-white square image called a QR code. When someone scans it with their phone, it shows the original message or opens the link. It's a fun and easy way to share information without typing it out."
   ]
  },
  {
   "cell_type": "markdown",
   "id": "d3fe7ce6-996c-4a46-9de9-f3387889ab0b",
   "metadata": {},
   "source": [
    "### Install Required Library"
   ]
  },
  {
   "cell_type": "code",
   "execution_count": 13,
   "id": "0d931def-02ab-47df-8658-c8e200c29c9e",
   "metadata": {},
   "outputs": [
    {
     "name": "stdout",
     "output_type": "stream",
     "text": [
      "Requirement already satisfied: qrcode[pil] in c:\\users\\kavya venkatesh\\anaconda3.n\\lib\\site-packages (8.2)\n",
      "Requirement already satisfied: colorama in c:\\users\\kavya venkatesh\\anaconda3.n\\lib\\site-packages (from qrcode[pil]) (0.4.6)\n",
      "Requirement already satisfied: pillow>=9.1.0 in c:\\users\\kavya venkatesh\\anaconda3.n\\lib\\site-packages (from qrcode[pil]) (10.4.0)\n"
     ]
    }
   ],
   "source": [
    "!pip install qrcode[pil]"
   ]
  },
  {
   "cell_type": "markdown",
   "id": "1e5ca672-2895-4fae-9efd-0559e084c548",
   "metadata": {},
   "source": [
    "### Basic QR Code Generation"
   ]
  },
  {
   "cell_type": "code",
   "execution_count": 14,
   "id": "3b38b01f-efbd-43e3-978f-d8c1d8389c91",
   "metadata": {},
   "outputs": [],
   "source": [
    "import qrcode"
   ]
  },
  {
   "cell_type": "code",
   "execution_count": 15,
   "id": "532b39d1-5194-4b9e-9dc1-140bf338a1a9",
   "metadata": {},
   "outputs": [],
   "source": [
    "def generate_qr(data):\n",
    "    qr = qrcode.make(data)\n",
    "    qr.save(\"qrcode.png\")\n",
    "    print(\"QR Code generated and saved as 'qrcode.png'\")"
   ]
  },
  {
   "cell_type": "markdown",
   "id": "6b8e1b34-a381-4ad2-9491-b7cfe0446eb5",
   "metadata": {},
   "source": [
    "### Functions, Conditional Statements, and Loops"
   ]
  },
  {
   "cell_type": "code",
   "execution_count": 16,
   "id": "e3a072b9-8aa1-4b14-95dd-88fe3589fcab",
   "metadata": {},
   "outputs": [],
   "source": [
    "def generate_qr(data, filename=\"qrcode.png\"):\n",
    "    qr = qrcode.make(data)\n",
    "    qr.save(filename)\n",
    "    print(f\"QR Code saved as {filename}\")\n",
    "\n",
    "def main():\n",
    "    while True:\n",
    "        print(\"\\nQR Code Generator\")\n",
    "        print(\"1. Generate QR Code\")\n",
    "        print(\"2. Exit\")\n",
    "        choice = input(\"Enter your choice: \")\n",
    "\n",
    "        if choice == \"1\":\n",
    "            data = input(\"Enter text or URL: \")\n",
    "            filename = input(\"Enter filename (e.g. myqr.png): \")\n",
    "            if not filename.endswith('.png'):\n",
    "                filename += '.png'\n",
    "            generate_qr(data, filename)\n",
    "        elif choice == \"2\":\n",
    "            print(\"Exiting...\")\n",
    "            break\n",
    "        else:\n",
    "            print(\"Invalid choice. Try again.\")"
   ]
  },
  {
   "cell_type": "markdown",
   "id": "19ef8d53-c5e3-417c-a77d-e0fcbaec61b5",
   "metadata": {},
   "source": [
    "### Use of Lists, Tuples, Dictionaries, and Sets"
   ]
  },
  {
   "cell_type": "code",
   "execution_count": 17,
   "id": "26eb444f-4ecc-49b9-b333-a3f7b2ca68b4",
   "metadata": {},
   "outputs": [],
   "source": [
    "qr_history = []\n",
    "\n",
    "def generate_qr(data, filename=\"qrcode.png\"):\n",
    "    qr = qrcode.make(data)\n",
    "    qr.save(filename)\n",
    "    qr_history.append({'data': data, 'file': filename})\n",
    "    print(f\"QR Code saved as {filename}\")"
   ]
  },
  {
   "cell_type": "markdown",
   "id": "d40bfaac-3995-41da-84aa-2d74246582fd",
   "metadata": {},
   "source": [
    "### Reading/Writing Files"
   ]
  },
  {
   "cell_type": "code",
   "execution_count": 18,
   "id": "522692e2-f60a-4100-a347-1e4ed9faa923",
   "metadata": {},
   "outputs": [],
   "source": [
    "def save_history_to_file():\n",
    "    with open(\"qr_history.txt\", \"w\") as f:\n",
    "        for record in qr_history:\n",
    "            f.write(f\"{record['data']} -> {record['file']}\\n\")\n",
    "    print(\"History saved to qr_history.txt\")"
   ]
  },
  {
   "cell_type": "markdown",
   "id": "626cfd96-4056-456b-bc4f-650d1d794cb1",
   "metadata": {},
   "source": [
    "### Exception Handling"
   ]
  },
  {
   "cell_type": "code",
   "execution_count": 19,
   "id": "ed566697-24cc-40f5-a724-a57839590628",
   "metadata": {},
   "outputs": [],
   "source": [
    "def generate_qr(data, filename=\"qrcode.png\"):\n",
    "    try:\n",
    "        qr = qrcode.make(data)\n",
    "        qr.save(filename)\n",
    "        qr_history.append({'data': data, 'file': filename})\n",
    "        print(f\"QR Code saved as {filename}\")\n",
    "    except Exception as e:\n",
    "        print(f\"Error: {e}\")"
   ]
  },
  {
   "cell_type": "markdown",
   "id": "cfdf0d06-0600-41e1-832b-2be10b734982",
   "metadata": {},
   "source": [
    "### OOP (Object-Oriented Programming)"
   ]
  },
  {
   "cell_type": "code",
   "execution_count": 20,
   "id": "e9a30211-8369-446d-8b4d-3cb0601f1564",
   "metadata": {},
   "outputs": [],
   "source": [
    "class QRCodeGenerator:\n",
    "    def __init__(self):\n",
    "        self.history = []\n",
    "\n",
    "    def generate(self, data, filename=\"qrcode.png\"):\n",
    "        try:\n",
    "            qr = qrcode.make(data)\n",
    "            qr.save(filename)\n",
    "            self.history.append({'data': data, 'file': filename})\n",
    "            print(f\"QR Code saved as {filename}\")\n",
    "        except Exception as e:\n",
    "            print(\"Error:\", e)\n",
    "\n",
    "    def save_history(self):\n",
    "        with open(\"qr_history.txt\", \"w\") as f:\n",
    "            for item in self.history:\n",
    "                f.write(f\"{item['data']} -> {item['file']}\\n\")\n",
    "        print(\"History saved.\")"
   ]
  },
  {
   "cell_type": "markdown",
   "id": "60ffd429-e595-4451-80ac-05bb7e4cf836",
   "metadata": {},
   "source": [
    "### Lambda Function "
   ]
  },
  {
   "cell_type": "code",
   "execution_count": 21,
   "id": "37e5df59-3763-4f69-a26c-80befcebebc1",
   "metadata": {},
   "outputs": [],
   "source": [
    "# Sort history by filename using lambda\n",
    "def show_sorted_history(qr_gen):\n",
    "    sorted_history = sorted(qr_gen.history, key=lambda x: x['file'])\n",
    "    for item in sorted_history:\n",
    "        print(f\"{item['data']} => {item['file']}\")"
   ]
  },
  {
   "cell_type": "markdown",
   "id": "ac66bead-ce6d-4870-bae6-2ae782356388",
   "metadata": {},
   "source": [
    "### Nested Loops "
   ]
  },
  {
   "cell_type": "code",
   "execution_count": 22,
   "id": "f493231b-a36b-49a9-98eb-c6c0dd8dbd26",
   "metadata": {},
   "outputs": [],
   "source": [
    "def generate_multiple_qrs(qr_gen):\n",
    "    n = int(input(\"How many QR codes do you want to generate? \"))\n",
    "    for i in range(n):\n",
    "        print(f\"--- QR {i+1} ---\")\n",
    "        data = input(\"Enter data: \")\n",
    "        filename = input(\"Enter filename: \")\n",
    "        if not filename.endswith('.png'):\n",
    "            filename += '.png'\n",
    "        qr_gen.generate(data, filename)"
   ]
  },
  {
   "cell_type": "markdown",
   "id": "2598a6d9-61f2-4709-8d46-32b7e70a295c",
   "metadata": {},
   "source": [
    "### Final Main Program"
   ]
  },
  {
   "cell_type": "code",
   "execution_count": 23,
   "id": "8fe7d44f-d248-40f4-92be-332db3b8e0b3",
   "metadata": {},
   "outputs": [
    {
     "name": "stdout",
     "output_type": "stream",
     "text": [
      "\n",
      "--- QR Code Generator ---\n",
      "1. Generate QR Code\n",
      "2. Generate Multiple QR Codes\n",
      "3. Save History\n",
      "4. Show Sorted History\n",
      "5. Exit\n"
     ]
    },
    {
     "name": "stdin",
     "output_type": "stream",
     "text": [
      "Enter your choice:  1\n",
      "Enter text/URL:  https://github.com\n",
      "Enter filename:   github_qr.png\n"
     ]
    },
    {
     "name": "stdout",
     "output_type": "stream",
     "text": [
      "QR Code saved as  github_qr.png\n",
      "\n",
      "--- QR Code Generator ---\n",
      "1. Generate QR Code\n",
      "2. Generate Multiple QR Codes\n",
      "3. Save History\n",
      "4. Show Sorted History\n",
      "5. Exit\n"
     ]
    },
    {
     "name": "stdin",
     "output_type": "stream",
     "text": [
      "Enter your choice:  3\n"
     ]
    },
    {
     "name": "stdout",
     "output_type": "stream",
     "text": [
      "History saved.\n",
      "\n",
      "--- QR Code Generator ---\n",
      "1. Generate QR Code\n",
      "2. Generate Multiple QR Codes\n",
      "3. Save History\n",
      "4. Show Sorted History\n",
      "5. Exit\n"
     ]
    },
    {
     "name": "stdin",
     "output_type": "stream",
     "text": [
      "Enter your choice:  4\n"
     ]
    },
    {
     "name": "stdout",
     "output_type": "stream",
     "text": [
      "https://github.com =>  github_qr.png\n",
      "\n",
      "--- QR Code Generator ---\n",
      "1. Generate QR Code\n",
      "2. Generate Multiple QR Codes\n",
      "3. Save History\n",
      "4. Show Sorted History\n",
      "5. Exit\n"
     ]
    },
    {
     "name": "stdin",
     "output_type": "stream",
     "text": [
      "Enter your choice:  5\n"
     ]
    },
    {
     "name": "stdout",
     "output_type": "stream",
     "text": [
      "Goodbye!\n"
     ]
    }
   ],
   "source": [
    "if __name__ == \"__main__\":\n",
    "    qr_gen = QRCodeGenerator()\n",
    "\n",
    "    while True:\n",
    "        print(\"\\n--- QR Code Generator ---\")\n",
    "        print(\"1. Generate QR Code\")\n",
    "        print(\"2. Generate Multiple QR Codes\")\n",
    "        print(\"3. Save History\")\n",
    "        print(\"4. Show Sorted History\")\n",
    "        print(\"5. Exit\")\n",
    "        choice = input(\"Enter your choice: \")\n",
    "\n",
    "        if choice == \"1\":\n",
    "            data = input(\"Enter text/URL: \")\n",
    "            filename = input(\"Enter filename: \")\n",
    "            qr_gen.generate(data, filename)\n",
    "        elif choice == \"2\":\n",
    "            generate_multiple_qrs(qr_gen)\n",
    "        elif choice == \"3\":\n",
    "            qr_gen.save_history()\n",
    "        elif choice == \"4\":\n",
    "            show_sorted_history(qr_gen)\n",
    "        elif choice == \"5\":\n",
    "            print(\"Goodbye!\")\n",
    "            break\n",
    "        else:\n",
    "            print(\"Invalid choice.\")"
   ]
  },
  {
   "cell_type": "markdown",
   "id": "6ada8c3d-db49-4223-bc5b-0ab32b5c13ab",
   "metadata": {},
   "source": [
    "### QR Code Image"
   ]
  },
  {
   "cell_type": "code",
   "execution_count": 27,
   "id": "62c9a44a-c890-446b-89de-1c732e5633a3",
   "metadata": {},
   "outputs": [],
   "source": [
    "import qrcode\n",
    "from PIL import Image\n",
    "\n",
    "# Data to encode\n",
    "data = \"https://aimicrodegree.org\"\n",
    "\n",
    "# Create QR code\n",
    "qr_img = qrcode.make(data)\n",
    "\n",
    "# Save the QR code as an image\n",
    "filename = \"aimicrodegree_qrcode.png\"\n",
    "qr_img.save(filename)\n",
    "\n",
    "# Display the image\n",
    "qr_img.show()  # This opens the image in the default viewer"
   ]
  },
  {
   "cell_type": "code",
   "execution_count": null,
   "id": "0d5dd3a0-05d5-4dfe-9c1a-db5e6b164d7b",
   "metadata": {},
   "outputs": [],
   "source": []
  }
 ],
 "metadata": {
  "kernelspec": {
   "display_name": "Python 3 (ipykernel)",
   "language": "python",
   "name": "python3"
  },
  "language_info": {
   "codemirror_mode": {
    "name": "ipython",
    "version": 3
   },
   "file_extension": ".py",
   "mimetype": "text/x-python",
   "name": "python",
   "nbconvert_exporter": "python",
   "pygments_lexer": "ipython3",
   "version": "3.12.7"
  }
 },
 "nbformat": 4,
 "nbformat_minor": 5
}
